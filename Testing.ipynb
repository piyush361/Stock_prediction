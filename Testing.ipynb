{
 "cells": [
  {
   "cell_type": "code",
   "execution_count": null,
   "metadata": {},
   "outputs": [
    {
     "name": "stderr",
     "output_type": "stream",
     "text": [
      "/home/piyush/anaconda3/lib/python3.12/site-packages/torch/nn/modules/transformer.py:379: UserWarning: enable_nested_tensor is True, but self.use_nested_tensor is False because encoder_layer.self_attn.num_heads is odd\n",
      "  warnings.warn(\n",
      "/tmp/ipykernel_11410/3246163291.py:64: FutureWarning: You are using `torch.load` with `weights_only=False` (the current default value), which uses the default pickle module implicitly. It is possible to construct malicious pickle data which will execute arbitrary code during unpickling (See https://github.com/pytorch/pytorch/blob/main/SECURITY.md#untrusted-models for more details). In a future release, the default value for `weights_only` will be flipped to `True`. This limits the functions that could be executed during unpickling. Arbitrary objects will no longer be allowed to be loaded via this mode unless they are explicitly allowlisted by the user via `torch.serialization.add_safe_globals`. We recommend you start setting `weights_only=True` for any use case where you don't have full control of the loaded file. Please open an issue on GitHub for any issues related to this experimental feature.\n",
      "  model.load_state_dict(torch.load('./Downloads/Apple_model.pth'))\n"
     ]
    },
    {
     "data": {
      "text/plain": [
       "TransformerStockPredictor(\n",
       "  (input_proj): Linear(in_features=4, out_features=96, bias=True)\n",
       "  (pos_encoder): PositionalEncoding()\n",
       "  (transformer_encoder): TransformerEncoder(\n",
       "    (layers): ModuleList(\n",
       "      (0-1): 2 x TransformerEncoderLayer(\n",
       "        (self_attn): MultiheadAttention(\n",
       "          (out_proj): NonDynamicallyQuantizableLinear(in_features=96, out_features=96, bias=True)\n",
       "        )\n",
       "        (linear1): Linear(in_features=96, out_features=128, bias=True)\n",
       "        (dropout): Dropout(p=0.2, inplace=False)\n",
       "        (linear2): Linear(in_features=128, out_features=96, bias=True)\n",
       "        (norm1): LayerNorm((96,), eps=1e-05, elementwise_affine=True)\n",
       "        (norm2): LayerNorm((96,), eps=1e-05, elementwise_affine=True)\n",
       "        (dropout1): Dropout(p=0.2, inplace=False)\n",
       "        (dropout2): Dropout(p=0.2, inplace=False)\n",
       "      )\n",
       "    )\n",
       "  )\n",
       "  (fc_out): Sequential(\n",
       "    (0): Linear(in_features=1920, out_features=96, bias=True)\n",
       "    (1): ReLU()\n",
       "    (2): Linear(in_features=96, out_features=1, bias=True)\n",
       "  )\n",
       ")"
      ]
     },
     "execution_count": 23,
     "metadata": {},
     "output_type": "execute_result"
    }
   ],
   "source": [
    "import torch\n",
    "import torch.nn as nn\n",
    "import math\n",
    "\n",
    "\n",
    "class PositionalEncoding(nn.Module):\n",
    "    def __init__(self, d_model, max_len=5000):\n",
    "        super(PositionalEncoding, self).__init__()\n",
    "        self.encoding = torch.zeros(max_len, d_model)\n",
    "        positions = torch.arange(0, max_len).unsqueeze(1).float()\n",
    "        div_term = torch.exp(torch.arange(0, d_model, 2).float() * (-math.log(10000.0) / d_model))\n",
    "        self.encoding[:, 0::2] = torch.sin(positions * div_term)\n",
    "        self.encoding[:, 1::2] = torch.cos(positions * div_term)\n",
    "        self.encoding = self.encoding.unsqueeze(0)\n",
    "\n",
    "    def forward(self, x):\n",
    "        seq_len = x.size(1)\n",
    "        return x + self.encoding[:, :seq_len, :].to(x.device)\n",
    "\n",
    "\n",
    "class TransformerStockPredictor(nn.Module):\n",
    "    def __init__(self, input_dim, seq_len, d_model, n_heads, n_encoders, ff_dim, dropout=0.1):\n",
    "        super(TransformerStockPredictor, self).__init__()\n",
    "        self.input_proj = nn.Linear(input_dim, d_model)\n",
    "        self.pos_encoder = PositionalEncoding(d_model, max_len=seq_len)\n",
    "\n",
    "        encoder_layer = nn.TransformerEncoderLayer(\n",
    "            d_model=d_model,\n",
    "            nhead=n_heads,\n",
    "            dim_feedforward=ff_dim,\n",
    "            dropout=dropout,\n",
    "            batch_first=True\n",
    "        )\n",
    "        self.transformer_encoder = nn.TransformerEncoder(encoder_layer, num_layers=n_encoders)\n",
    "\n",
    "\n",
    "        self.fc_out = nn.Sequential(\n",
    "            nn.Linear(d_model * seq_len, d_model),\n",
    "            nn.ReLU(),\n",
    "            nn.Linear(d_model, 1)\n",
    "        )\n",
    "\n",
    "    def forward(self, x):\n",
    "        x = self.input_proj(x)\n",
    "        x = self.pos_encoder(x)\n",
    "\n",
    "        x = self.transformer_encoder(x)\n",
    "\n",
    "        x = x.view(x.size(0), -1)\n",
    "        return self.fc_out(x)\n",
    "\n",
    "# Instantiate the model\n",
    "model_params = {\n",
    "    \"input_dim\": 4,\n",
    "    \"seq_len\": 20,\n",
    "    \"d_model\": 96,\n",
    "    \"n_heads\": 3,\n",
    "    \"n_encoders\": 2,\n",
    "    \"ff_dim\": 128,\n",
    "    \"dropout\": 0.2\n",
    "}\n",
    "model = TransformerStockPredictor(input_dim=4,seq_len=20,d_model=96,n_heads=3,n_encoders=2,ff_dim=128,dropout=0.2)\n",
    "\n",
    "# Load the model weights\n",
    "model.load_state_dict(torch.load('./Downloads/Apple_model.pth'))\n",
    "\n",
    "# Set the model to evaluation mode (if you're doing inference)\n",
    "model.eval()"
   ]
  },
  {
   "cell_type": "code",
   "execution_count": 45,
   "metadata": {},
   "outputs": [],
   "source": [
    "from torch.utils.data import DataLoader\n",
    "import pandas as pd\n",
    "class StockDataset(torch.utils.data.Dataset):\n",
    "    def __init__(self, X, y, seq_len, batch_size, pad_value=0.0):\n",
    "\n",
    "        if isinstance(X, pd.DataFrame):\n",
    "            X = X.values\n",
    "        if isinstance(y, pd.Series):\n",
    "            y = y.values\n",
    "\n",
    "        self.X = torch.tensor(X, dtype=torch.float32)\n",
    "        self.y = torch.tensor(y, dtype=torch.float32)\n",
    "        self.seq_len = seq_len\n",
    "        self.batch_size = batch_size\n",
    "        self.pad_value = pad_value\n",
    "\n",
    "        # Ensure X and y are 2D\n",
    "        if self.X.ndimension() == 1:  # For single feature case\n",
    "            self.X = self.X.unsqueeze(1)  # Add second dimension for features\n",
    "        if self.y.ndimension() == 1:  # For single feature case\n",
    "            self.y = self.y.unsqueeze(1)  # Ensure y has shape (num_samples, 1)\n",
    "\n",
    "        self.X_padded = self._pad_sequences(self.X)\n",
    "        self.y_padded = self._pad_sequences(self.y)\n",
    "\n",
    "    def _pad_sequences(self, data):\n",
    "        total_len = len(data)\n",
    "        remainder = (total_len % self.seq_len)\n",
    "\n",
    "        if remainder != 0:\n",
    "            pad_len = self.seq_len - remainder\n",
    "            data = torch.cat((data, torch.full((pad_len, data.shape[1]), self.pad_value)), dim=0)\n",
    "\n",
    "        total_len = len(data)\n",
    "        if total_len % self.batch_size != 0:\n",
    "            batch_pad_len = (self.batch_size - (total_len % self.batch_size)) % self.batch_size\n",
    "            data = torch.cat((data, torch.full((batch_pad_len, data.shape[1]), self.pad_value)), dim=0)\n",
    "\n",
    "        return data\n",
    "\n",
    "    def __len__(self):\n",
    "        return len(self.X_padded) // self.seq_len\n",
    "\n",
    "    def __getitem__(self, idx):\n",
    "        start = idx * self.seq_len\n",
    "        end = start + self.seq_len\n",
    "        x_seq = self.X_padded[start:end]\n",
    "        y_seq = self.y_padded[start:end]\n",
    "        return x_seq, y_seq\n",
    "\n"
   ]
  },
  {
   "cell_type": "code",
   "execution_count": 113,
   "metadata": {},
   "outputs": [
    {
     "data": {
      "text/html": [
       "<div>\n",
       "<style scoped>\n",
       "    .dataframe tbody tr th:only-of-type {\n",
       "        vertical-align: middle;\n",
       "    }\n",
       "\n",
       "    .dataframe tbody tr th {\n",
       "        vertical-align: top;\n",
       "    }\n",
       "\n",
       "    .dataframe thead th {\n",
       "        text-align: right;\n",
       "    }\n",
       "</style>\n",
       "<table border=\"1\" class=\"dataframe\">\n",
       "  <thead>\n",
       "    <tr style=\"text-align: right;\">\n",
       "      <th></th>\n",
       "      <th>Open</th>\n",
       "      <th>High</th>\n",
       "      <th>Low</th>\n",
       "      <th>Close</th>\n",
       "      <th>Volume</th>\n",
       "      <th>Dividends</th>\n",
       "      <th>Stock Splits</th>\n",
       "    </tr>\n",
       "    <tr>\n",
       "      <th>Date</th>\n",
       "      <th></th>\n",
       "      <th></th>\n",
       "      <th></th>\n",
       "      <th></th>\n",
       "      <th></th>\n",
       "      <th></th>\n",
       "      <th></th>\n",
       "    </tr>\n",
       "  </thead>\n",
       "  <tbody>\n",
       "    <tr>\n",
       "      <th>2024-12-26 00:00:00-05:00</th>\n",
       "      <td>71.430000</td>\n",
       "      <td>71.839996</td>\n",
       "      <td>71.110001</td>\n",
       "      <td>71.760002</td>\n",
       "      <td>6964300</td>\n",
       "      <td>0.0</td>\n",
       "      <td>0.0</td>\n",
       "    </tr>\n",
       "    <tr>\n",
       "      <th>2024-12-27 00:00:00-05:00</th>\n",
       "      <td>71.180000</td>\n",
       "      <td>71.739998</td>\n",
       "      <td>70.629997</td>\n",
       "      <td>71.110001</td>\n",
       "      <td>7219500</td>\n",
       "      <td>0.0</td>\n",
       "      <td>0.0</td>\n",
       "    </tr>\n",
       "    <tr>\n",
       "      <th>2024-12-30 00:00:00-05:00</th>\n",
       "      <td>70.410004</td>\n",
       "      <td>70.800003</td>\n",
       "      <td>69.769997</td>\n",
       "      <td>70.410004</td>\n",
       "      <td>8443800</td>\n",
       "      <td>0.0</td>\n",
       "      <td>0.0</td>\n",
       "    </tr>\n",
       "    <tr>\n",
       "      <th>2024-12-31 00:00:00-05:00</th>\n",
       "      <td>70.529999</td>\n",
       "      <td>70.919998</td>\n",
       "      <td>70.059998</td>\n",
       "      <td>70.239998</td>\n",
       "      <td>7031500</td>\n",
       "      <td>0.0</td>\n",
       "      <td>0.0</td>\n",
       "    </tr>\n",
       "    <tr>\n",
       "      <th>2025-01-02 00:00:00-05:00</th>\n",
       "      <td>70.480003</td>\n",
       "      <td>71.209999</td>\n",
       "      <td>69.760002</td>\n",
       "      <td>70.190002</td>\n",
       "      <td>8303300</td>\n",
       "      <td>0.0</td>\n",
       "      <td>0.0</td>\n",
       "    </tr>\n",
       "  </tbody>\n",
       "</table>\n",
       "</div>"
      ],
      "text/plain": [
       "                                Open       High        Low      Close  \\\n",
       "Date                                                                    \n",
       "2024-12-26 00:00:00-05:00  71.430000  71.839996  71.110001  71.760002   \n",
       "2024-12-27 00:00:00-05:00  71.180000  71.739998  70.629997  71.110001   \n",
       "2024-12-30 00:00:00-05:00  70.410004  70.800003  69.769997  70.410004   \n",
       "2024-12-31 00:00:00-05:00  70.529999  70.919998  70.059998  70.239998   \n",
       "2025-01-02 00:00:00-05:00  70.480003  71.209999  69.760002  70.190002   \n",
       "\n",
       "                            Volume  Dividends  Stock Splits  \n",
       "Date                                                         \n",
       "2024-12-26 00:00:00-05:00  6964300        0.0           0.0  \n",
       "2024-12-27 00:00:00-05:00  7219500        0.0           0.0  \n",
       "2024-12-30 00:00:00-05:00  8443800        0.0           0.0  \n",
       "2024-12-31 00:00:00-05:00  7031500        0.0           0.0  \n",
       "2025-01-02 00:00:00-05:00  8303300        0.0           0.0  "
      ]
     },
     "execution_count": 113,
     "metadata": {},
     "output_type": "execute_result"
    }
   ],
   "source": [
    "import yfinance as yf\n",
    "\n",
    "st1=yf.Ticker('WFC')\n",
    "dt=st1.history(start='2024-12-25',end='2025-01-3',interval='1d')\n",
    "dt"
   ]
  },
  {
   "cell_type": "code",
   "execution_count": 104,
   "metadata": {},
   "outputs": [],
   "source": [
    "def calculate_indicators(df, rsi_period=14, macd_fast=12, macd_slow=26, macd_signal=9):\n",
    "    if 'Close' not in df.columns:\n",
    "        raise ValueError(\"DataFrame must contain a 'Close' column\")\n",
    "\n",
    "    df['Price Change'] = df['Close'].diff()\n",
    "    df['Gain'] = df['Price Change'].where(df['Price Change'] > 0, 0)\n",
    "    df['Loss'] = -df['Price Change'].where(df['Price Change'] < 0, 0)\n",
    "\n",
    "    df['Avg Gain'] = df['Gain'].rolling(window=rsi_period).mean()\n",
    "    df['Avg Loss'] = df['Loss'].rolling(window=rsi_period).mean()\n",
    "\n",
    "    df['RS'] = df['Avg Gain'] / df['Avg Loss']\n",
    "    df['RSI'] = 100 - (100 / (1 + df['RS']))\n",
    "\n",
    "    df['EMA12'] = df['Close'].ewm(span=macd_fast, adjust=False).mean()\n",
    "    df['EMA26'] = df['Close'].ewm(span=macd_slow, adjust=False).mean()\n",
    "\n",
    "    df['MACD'] = df['EMA12'] - df['EMA26']\n",
    "    df['Signal Line'] = df['MACD'].ewm(span=macd_signal, adjust=False).mean()\n",
    "\n",
    "    return df[['Close', 'RSI', 'MACD', 'Signal Line']]"
   ]
  },
  {
   "cell_type": "code",
   "execution_count": 105,
   "metadata": {},
   "outputs": [],
   "source": [
    "dt=calculate_indicators(dt)"
   ]
  },
  {
   "cell_type": "code",
   "execution_count": 106,
   "metadata": {},
   "outputs": [
    {
     "name": "stderr",
     "output_type": "stream",
     "text": [
      "/tmp/ipykernel_11410/233197283.py:1: SettingWithCopyWarning: \n",
      "A value is trying to be set on a copy of a slice from a DataFrame.\n",
      "Try using .loc[row_indexer,col_indexer] = value instead\n",
      "\n",
      "See the caveats in the documentation: https://pandas.pydata.org/pandas-docs/stable/user_guide/indexing.html#returning-a-view-versus-a-copy\n",
      "  dt['RSI'] = dt['RSI'].fillna(50)\n"
     ]
    }
   ],
   "source": [
    "dt['RSI'] = dt['RSI'].fillna(50)"
   ]
  },
  {
   "cell_type": "code",
   "execution_count": 107,
   "metadata": {},
   "outputs": [
    {
     "name": "stderr",
     "output_type": "stream",
     "text": [
      "/tmp/ipykernel_11410/1940646066.py:5: SettingWithCopyWarning: \n",
      "A value is trying to be set on a copy of a slice from a DataFrame.\n",
      "Try using .loc[row_indexer,col_indexer] = value instead\n",
      "\n",
      "See the caveats in the documentation: https://pandas.pydata.org/pandas-docs/stable/user_guide/indexing.html#returning-a-view-versus-a-copy\n",
      "  dt[ftrs] = scaler.fit_transform(dt[ftrs])\n"
     ]
    }
   ],
   "source": [
    "from sklearn.preprocessing import MinMaxScaler\n",
    "\n",
    "ftrs=['Close','RSI','MACD','Signal Line']\n",
    "scaler=MinMaxScaler()\n",
    "dt[ftrs] = scaler.fit_transform(dt[ftrs])"
   ]
  },
  {
   "cell_type": "code",
   "execution_count": 108,
   "metadata": {},
   "outputs": [],
   "source": [
    "dc=dt['Close']\n",
    "train_dt= StockDataset(dt,dc,seq_len=20,batch_size=16)\n",
    "train_ld=DataLoader(train_dt,batch_size=16,shuffle=False)\n"
   ]
  },
  {
   "cell_type": "code",
   "execution_count": 109,
   "metadata": {},
   "outputs": [],
   "source": [
    "model.eval()\n",
    "with torch.no_grad():\n",
    "    for x_test, y_test in train_ld:\n",
    "        \n",
    "        predictions=model(x_test).squeeze(-1)"
   ]
  },
  {
   "cell_type": "code",
   "execution_count": 110,
   "metadata": {},
   "outputs": [
    {
     "data": {
      "text/plain": [
       "tensor([0.2087])"
      ]
     },
     "execution_count": 110,
     "metadata": {},
     "output_type": "execute_result"
    }
   ],
   "source": [
    "predictions"
   ]
  },
  {
   "cell_type": "code",
   "execution_count": 111,
   "metadata": {},
   "outputs": [],
   "source": [
    "import numpy as np\n",
    "from sklearn.preprocessing import MinMaxScaler\n",
    "\n",
    "# scaler2=MinMaxScaler()\n",
    "\n",
    "# scaler2.fit_transform()\n",
    "\n",
    "prediction_np = predictions.detach().cpu().numpy().reshape(-1, 1)  \n",
    "placeholder = np.zeros((1, 4))  # Shape: (1, 4)\n",
    "\n",
    "# Step 3: Place the prediction value in the appropriate column (e.g., first feature)\n",
    "placeholder[:, 0] = prediction_np[:, 0]  # Replace 0 with the appropriate index if needed\n",
    "\n",
    "stock = scaler.inverse_transform(placeholder)\n"
   ]
  },
  {
   "cell_type": "code",
   "execution_count": 112,
   "metadata": {},
   "outputs": [
    {
     "data": {
      "text/plain": [
       "70.55728662983347"
      ]
     },
     "execution_count": 112,
     "metadata": {},
     "output_type": "execute_result"
    }
   ],
   "source": [
    "stock[0][0]"
   ]
  },
  {
   "cell_type": "code",
   "execution_count": null,
   "metadata": {},
   "outputs": [],
   "source": []
  }
 ],
 "metadata": {
  "kernelspec": {
   "display_name": "Python 3 (ipykernel)",
   "language": "python",
   "name": "python3"
  }
 },
 "nbformat": 4,
 "nbformat_minor": 2
}
